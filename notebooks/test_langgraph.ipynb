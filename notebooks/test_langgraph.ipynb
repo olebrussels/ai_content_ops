{
 "cells": [
  {
   "cell_type": "code",
   "execution_count": 1,
   "id": "cb001904",
   "metadata": {},
   "outputs": [
    {
     "name": "stdout",
     "output_type": "stream",
     "text": [
      "AssemblyAI API Key loaded: ✅\n",
      "Key starts with: 972365f41d...\n"
     ]
    }
   ],
   "source": [
    "# Cell 1: Setup and Imports\n",
    "import os\n",
    "import sys\n",
    "from pathlib import Path\n",
    "from dotenv import load_dotenv\n",
    "\n",
    "# Add project root to Python path\n",
    "project_root = Path.cwd().parent\n",
    "sys.path.append(str(project_root))\n",
    "\n",
    "# Load environment variables\n",
    "load_dotenv(project_root / '.env')\n",
    "\n",
    "# Test API key\n",
    "assemblyai_key = os.getenv('ASSEMBLYAI_API_KEY')\n",
    "print(f\"AssemblyAI API Key loaded: {'✅' if assemblyai_key else '❌'}\")\n",
    "print(f\"Key starts with: {assemblyai_key[:10] if assemblyai_key else 'None'}...\")\n"
   ]
  },
  {
   "cell_type": "code",
   "execution_count": 6,
   "id": "30f9e880",
   "metadata": {},
   "outputs": [
    {
     "name": "stdout",
     "output_type": "stream",
     "text": [
      "✅ All imports successful\n"
     ]
    }
   ],
   "source": [
    "# Cell 2: Import Dependencies\n",
    "import assemblyai as aai\n",
    "from langgraph.graph import StateGraph, END, START\n",
    "from typing import TypedDict, Optional\n",
    "import glob\n",
    "\n",
    "# Import our database\n",
    "from database.db_operations import db\n",
    "from database.models import ConversationCreate\n",
    "\n",
    "print(\"✅ All imports successful\")"
   ]
  },
  {
   "cell_type": "code",
   "execution_count": 7,
   "id": "19fad4ae",
   "metadata": {},
   "outputs": [
    {
     "name": "stdout",
     "output_type": "stream",
     "text": [
      "✅ State defined\n"
     ]
    }
   ],
   "source": [
    "# Cell 3: Define LangGraph State\n",
    "class AudioPipelineState(TypedDict):\n",
    "    file_path: str\n",
    "    filename: str\n",
    "    transcript_text: Optional[str]\n",
    "    conversation_id: Optional[int]\n",
    "    error: Optional[str]\n",
    "    status: str\n",
    "\n",
    "print(\"✅ State defined\")"
   ]
  },
  {
   "cell_type": "code",
   "execution_count": 4,
   "id": "f5cabeaa",
   "metadata": {},
   "outputs": [
    {
     "name": "stdout",
     "output_type": "stream",
     "text": [
      "✅ AssemblyAI connection successful\n"
     ]
    },
    {
     "data": {
      "text/plain": [
       "True"
      ]
     },
     "execution_count": 4,
     "metadata": {},
     "output_type": "execute_result"
    }
   ],
   "source": [
    "# Cell 4: Test AssemblyAI Connection\n",
    "# Configure AssemblyAI\n",
    "aai.settings.api_key = os.getenv('ASSEMBLYAI_API_KEY')\n",
    "\n",
    "# Test with a simple transcription (we'll use a file from temp folder)\n",
    "def test_assemblyai_connection():\n",
    "    \"\"\"Test if AssemblyAI is working\"\"\"\n",
    "    try:\n",
    "        # Just test the API key is valid\n",
    "        transcriber = aai.Transcriber()\n",
    "        print(\"✅ AssemblyAI connection successful\")\n",
    "        return True\n",
    "    except Exception as e:\n",
    "        print(f\"❌ AssemblyAI connection failed: {e}\")\n",
    "        return False\n",
    "\n",
    "test_assemblyai_connection()"
   ]
  },
  {
   "cell_type": "code",
   "execution_count": 5,
   "id": "01335e96",
   "metadata": {},
   "outputs": [
    {
     "name": "stdout",
     "output_type": "stream",
     "text": [
      "📁 Found 1 audio files in temp:\n",
      "   blog_record.wav (30.8 MB)\n",
      "\n",
      "🎯 Will use for testing: blog_record.wav\n"
     ]
    }
   ],
   "source": [
    "# Cell 5: Find Test Audio Files\n",
    "# Let's see what audio files we have in temp\n",
    "temp_folder = project_root / 'data' / 'temp'\n",
    "audio_files = list(temp_folder.glob('*.wav')) + list(temp_folder.glob('*.mp3'))\n",
    "\n",
    "print(f\"📁 Found {len(audio_files)} audio files in temp:\")\n",
    "for file_path in audio_files:\n",
    "    size_mb = file_path.stat().st_size / (1024 * 1024)\n",
    "    print(f\"   {file_path.name} ({size_mb:.1f} MB)\")\n",
    "\n",
    "# Select first file for testing\n",
    "test_file = audio_files[0] if audio_files else None\n",
    "if test_file:\n",
    "    print(f\"\\n🎯 Will use for testing: {test_file.name}\")\n",
    "else:\n",
    "    print(\"\\n❌ No audio files found! Please add a .wav file to data/temp/\")"
   ]
  },
  {
   "cell_type": "code",
   "execution_count": 8,
   "id": "419ae62d",
   "metadata": {},
   "outputs": [
    {
     "name": "stdout",
     "output_type": "stream",
     "text": [
      "✅ Transcription node defined\n"
     ]
    }
   ],
   "source": [
    "# Cell 6: AssemblyAI Transcription Node\n",
    "def audio_transcriber_node(state: AudioPipelineState) -> AudioPipelineState:\n",
    "    \"\"\"Node 1: Transcribe audio file using AssemblyAI\"\"\"\n",
    "    \n",
    "    print(f\"🎙️ Starting transcription for: {state['filename']}\")\n",
    "    \n",
    "    try:\n",
    "        # Configure transcriber\n",
    "        transcriber = aai.Transcriber()\n",
    "        \n",
    "        # Start transcription\n",
    "        print(\"📡 Uploading to AssemblyAI...\")\n",
    "        transcript = transcriber.transcribe(state['file_path'])\n",
    "        \n",
    "        # Wait for completion\n",
    "        print(\"⏳ Waiting for transcription...\")\n",
    "        \n",
    "        if transcript.status == aai.TranscriptStatus.error:\n",
    "            error_msg = f\"AssemblyAI transcription failed: {transcript.error}\"\n",
    "            print(f\"❌ {error_msg}\")\n",
    "            return {\n",
    "                **state,\n",
    "                \"error\": error_msg,\n",
    "                \"status\": \"transcription_failed\"\n",
    "            }\n",
    "        \n",
    "        print(f\"✅ Transcription completed!\")\n",
    "        print(f\"📝 Transcript length: {len(transcript.text)} characters\")\n",
    "        print(f\"🎯 First 100 chars: {transcript.text[:100]}...\")\n",
    "        \n",
    "        return {\n",
    "            **state,\n",
    "            \"transcript_text\": transcript.text,\n",
    "            \"status\": \"transcribed\"\n",
    "        }\n",
    "        \n",
    "    except Exception as e:\n",
    "        error_msg = f\"Transcription error: {str(e)}\"\n",
    "        print(f\"❌ {error_msg}\")\n",
    "        return {\n",
    "            **state,\n",
    "            \"error\": error_msg,\n",
    "            \"status\": \"transcription_failed\"\n",
    "        }\n",
    "\n",
    "print(\"✅ Transcription node defined\")"
   ]
  },
  {
   "cell_type": "code",
   "execution_count": 13,
   "id": "0cd719a4",
   "metadata": {},
   "outputs": [
    {
     "name": "stdout",
     "output_type": "stream",
     "text": [
      "🔧 Checking/creating database...\n",
      "Creating database at: data/app.db\n",
      "✅ Database schema created successfully!\n",
      "✅ Created tables: ['conversations', 'sqlite_sequence', 'blog_post_ideas', 'processing_status']\n",
      "✅ Database ready!\n",
      "📊 Available tables: ['conversations', 'sqlite_sequence', 'blog_post_ideas', 'processing_status']\n"
     ]
    }
   ],
   "source": [
    "# Cell: Initialize Database\n",
    "from database.init_db import create_database\n",
    "\n",
    "print(\"🔧 Checking/creating database...\")\n",
    "try:\n",
    "    create_database()\n",
    "    print(\"✅ Database ready!\")\n",
    "except Exception as e:\n",
    "    print(f\"❌ Database error: {e}\")\n",
    "\n",
    "# Verify tables exist\n",
    "import sqlite3\n",
    "conn = sqlite3.connect('data/app.db')\n",
    "cursor = conn.cursor()\n",
    "cursor.execute(\"SELECT name FROM sqlite_master WHERE type='table';\")\n",
    "tables = cursor.fetchall()\n",
    "print(f\"📊 Available tables: {[table[0] for table in tables]}\")\n",
    "conn.close()"
   ]
  },
  {
   "cell_type": "code",
   "execution_count": 9,
   "id": "419b43fb",
   "metadata": {},
   "outputs": [
    {
     "name": "stdout",
     "output_type": "stream",
     "text": [
      "✅ Database saver node defined\n"
     ]
    }
   ],
   "source": [
    "# Cell 7: Database Saving Node\n",
    "def database_saver_node(state: AudioPipelineState) -> AudioPipelineState:\n",
    "    \"\"\"Node 2: Save transcript to database\"\"\"\n",
    "    \n",
    "    print(f\"💾 Saving to database: {state['filename']}\")\n",
    "    \n",
    "    try:\n",
    "        # Create conversation object\n",
    "        conversation = ConversationCreate(\n",
    "            title=f\"Audio: {state['filename']}\",\n",
    "            raw_text=state['transcript_text'],\n",
    "            source=\"transcribed\"\n",
    "        )\n",
    "        \n",
    "        # Save to database\n",
    "        conversation_id = db.create_conversation(conversation)\n",
    "        \n",
    "        print(f\"✅ Saved conversation with ID: {conversation_id}\")\n",
    "        print(f\"📊 Word count: {conversation.word_count}\")\n",
    "        \n",
    "        return {\n",
    "            **state,\n",
    "            \"conversation_id\": conversation_id,\n",
    "            \"status\": \"completed\"\n",
    "        }\n",
    "        \n",
    "    except Exception as e:\n",
    "        error_msg = f\"Database save error: {str(e)}\"\n",
    "        print(f\"❌ {error_msg}\")\n",
    "        return {\n",
    "            **state,\n",
    "            \"error\": error_msg,\n",
    "            \"status\": \"database_save_failed\"\n",
    "        }\n",
    "\n",
    "print(\"✅ Database saver node defined\")"
   ]
  },
  {
   "cell_type": "code",
   "execution_count": 10,
   "id": "8c379c20",
   "metadata": {},
   "outputs": [
    {
     "name": "stdout",
     "output_type": "stream",
     "text": [
      "✅ LangGraph pipeline created\n",
      "\n",
      "📊 Pipeline Structure:\n",
      "START → transcribe → save_to_db → END\n"
     ]
    }
   ],
   "source": [
    "# Cell 8: Build LangGraph Pipeline\n",
    "def create_audio_pipeline():\n",
    "    \"\"\"Create the LangGraph workflow\"\"\"\n",
    "    \n",
    "    # Create state graph\n",
    "    workflow = StateGraph(AudioPipelineState)\n",
    "    \n",
    "    # Add nodes\n",
    "    workflow.add_node(\"transcribe\", audio_transcriber_node)\n",
    "    workflow.add_node(\"save_to_db\", database_saver_node)\n",
    "    \n",
    "    # Define the flow\n",
    "    workflow.add_edge(START, \"transcribe\")\n",
    "    workflow.add_edge(\"transcribe\", \"save_to_db\") \n",
    "    workflow.add_edge(\"save_to_db\", END)\n",
    "    \n",
    "    # Compile the graph\n",
    "    app = workflow.compile()\n",
    "    \n",
    "    return app\n",
    "\n",
    "# Create the pipeline\n",
    "pipeline = create_audio_pipeline()\n",
    "print(\"✅ LangGraph pipeline created\")\n",
    "\n",
    "# Visualize the graph (optional)\n",
    "try:\n",
    "    # This will show the graph structure\n",
    "    print(\"\\n📊 Pipeline Structure:\")\n",
    "    print(\"START → transcribe → save_to_db → END\")\n",
    "except:\n",
    "    print(\"Graph visualization not available\")"
   ]
  },
  {
   "cell_type": "code",
   "execution_count": 11,
   "id": "078aae2d",
   "metadata": {},
   "outputs": [
    {
     "name": "stdout",
     "output_type": "stream",
     "text": [
      "🚀 Testing pipeline with: blog_record.wav\n",
      "==================================================\n",
      "🎙️ Starting transcription for: blog_record.wav\n",
      "📡 Uploading to AssemblyAI...\n",
      "⏳ Waiting for transcription...\n",
      "✅ Transcription completed!\n",
      "📝 Transcript length: 1444 characters\n",
      "🎯 First 100 chars: I was sick yesterday. I had stomach problems. It was Tuesday and it was two days after a big party o...\n",
      "💾 Saving to database: blog_record.wav\n",
      "❌ Database save error: no such table: conversations\n",
      "\n",
      "==================================================\n",
      "📊 Final Result:\n",
      "   Status: database_save_failed\n",
      "   Conversation ID: None\n",
      "   Error: Database save error: no such table: conversations\n",
      "   Transcript length: 1444 chars\n",
      "   First 200 chars: I was sick yesterday. I had stomach problems. It was Tuesday and it was two days after a big party on Saturday and I was feeling like with nausea and I wanted to vomit. And so today is Wednesday was a...\n"
     ]
    }
   ],
   "source": [
    "# Cell 9: Test End-to-End Processing\n",
    "def test_single_file(file_path):\n",
    "    \"\"\"Test the complete pipeline with one file\"\"\"\n",
    "    \n",
    "    if not file_path.exists():\n",
    "        print(f\"❌ File not found: {file_path}\")\n",
    "        return None\n",
    "    \n",
    "    print(f\"🚀 Testing pipeline with: {file_path.name}\")\n",
    "    print(\"=\" * 50)\n",
    "    \n",
    "    # Create initial state\n",
    "    initial_state = {\n",
    "        \"file_path\": str(file_path),\n",
    "        \"filename\": file_path.name,\n",
    "        \"transcript_text\": None,\n",
    "        \"conversation_id\": None,\n",
    "        \"error\": None,\n",
    "        \"status\": \"starting\"\n",
    "    }\n",
    "    \n",
    "    # Run the pipeline\n",
    "    result = pipeline.invoke(initial_state)\n",
    "    \n",
    "    print(\"\\n\" + \"=\" * 50)\n",
    "    print(\"📊 Final Result:\")\n",
    "    print(f\"   Status: {result['status']}\")\n",
    "    print(f\"   Conversation ID: {result.get('conversation_id')}\")\n",
    "    print(f\"   Error: {result.get('error', 'None')}\")\n",
    "    \n",
    "    if result.get('transcript_text'):\n",
    "        print(f\"   Transcript length: {len(result['transcript_text'])} chars\")\n",
    "        print(f\"   First 200 chars: {result['transcript_text'][:200]}...\")\n",
    "    \n",
    "    return result\n",
    "\n",
    "# Test with the first available file\n",
    "if test_file:\n",
    "    test_result = test_single_file(test_file)\n",
    "else:\n",
    "    print(\"❌ No test file available. Add a .wav file to data/temp/ first!\")"
   ]
  },
  {
   "cell_type": "code",
   "execution_count": 12,
   "id": "d95b79d3",
   "metadata": {},
   "outputs": [
    {
     "name": "stdout",
     "output_type": "stream",
     "text": [
      "🔍 Checking recent database entries...\n"
     ]
    },
    {
     "ename": "OperationalError",
     "evalue": "no such table: conversations",
     "output_type": "error",
     "traceback": [
      "\u001b[31m---------------------------------------------------------------------------\u001b[39m",
      "\u001b[31mOperationalError\u001b[39m                          Traceback (most recent call last)",
      "\u001b[36mCell\u001b[39m\u001b[36m \u001b[39m\u001b[32mIn[12]\u001b[39m\u001b[32m, line 23\u001b[39m\n\u001b[32m     20\u001b[39m         \u001b[38;5;28mprint\u001b[39m(\u001b[33mf\u001b[39m\u001b[33m\"\u001b[39m\u001b[33m   🎯 Source: \u001b[39m\u001b[38;5;132;01m{\u001b[39;00mconv.source\u001b[38;5;132;01m}\u001b[39;00m\u001b[33m\"\u001b[39m)\n\u001b[32m     21\u001b[39m         \u001b[38;5;28mprint\u001b[39m(\u001b[33mf\u001b[39m\u001b[33m\"\u001b[39m\u001b[33m   📄 Text preview: \u001b[39m\u001b[38;5;132;01m{\u001b[39;00mconv.raw_text[:\u001b[32m150\u001b[39m]\u001b[38;5;132;01m}\u001b[39;00m\u001b[33m...\u001b[39m\u001b[33m\"\u001b[39m)\n\u001b[32m---> \u001b[39m\u001b[32m23\u001b[39m \u001b[43mverify_database_results\u001b[49m\u001b[43m(\u001b[49m\u001b[43m)\u001b[49m\n",
      "\u001b[36mCell\u001b[39m\u001b[36m \u001b[39m\u001b[32mIn[12]\u001b[39m\u001b[32m, line 8\u001b[39m, in \u001b[36mverify_database_results\u001b[39m\u001b[34m()\u001b[39m\n\u001b[32m      5\u001b[39m \u001b[38;5;28mprint\u001b[39m(\u001b[33m\"\u001b[39m\u001b[33m🔍 Checking recent database entries...\u001b[39m\u001b[33m\"\u001b[39m)\n\u001b[32m      7\u001b[39m \u001b[38;5;66;03m# Get recent conversations\u001b[39;00m\n\u001b[32m----> \u001b[39m\u001b[32m8\u001b[39m conversations = \u001b[43mdb\u001b[49m\u001b[43m.\u001b[49m\u001b[43mget_all_conversations\u001b[49m\u001b[43m(\u001b[49m\u001b[43m)\u001b[49m\n\u001b[32m     10\u001b[39m \u001b[38;5;28;01mif\u001b[39;00m \u001b[38;5;129;01mnot\u001b[39;00m conversations:\n\u001b[32m     11\u001b[39m     \u001b[38;5;28mprint\u001b[39m(\u001b[33m\"\u001b[39m\u001b[33m❌ No conversations found in database\u001b[39m\u001b[33m\"\u001b[39m)\n",
      "\u001b[36mFile \u001b[39m\u001b[32m~/Documents/tech/ai_content_ops/database/db_operations.py:67\u001b[39m, in \u001b[36mDatabaseManager.get_all_conversations\u001b[39m\u001b[34m(self)\u001b[39m\n\u001b[32m     65\u001b[39m \u001b[38;5;28;01mtry\u001b[39;00m:\n\u001b[32m     66\u001b[39m     cursor = conn.cursor()\n\u001b[32m---> \u001b[39m\u001b[32m67\u001b[39m     \u001b[43mcursor\u001b[49m\u001b[43m.\u001b[49m\u001b[43mexecute\u001b[49m\u001b[43m(\u001b[49m\u001b[33;43m\"\u001b[39;49m\u001b[33;43mSELECT * FROM conversations ORDER BY created_at DESC\u001b[39;49m\u001b[33;43m\"\u001b[39;49m\u001b[43m)\u001b[49m\n\u001b[32m     68\u001b[39m     rows = cursor.fetchall()\n\u001b[32m     69\u001b[39m     \u001b[38;5;28;01mreturn\u001b[39;00m [Conversation(**\u001b[38;5;28mdict\u001b[39m(row)) \u001b[38;5;28;01mfor\u001b[39;00m row \u001b[38;5;129;01min\u001b[39;00m rows]\n",
      "\u001b[31mOperationalError\u001b[39m: no such table: conversations"
     ]
    }
   ],
   "source": [
    "# Cell 10: Check Database Results\n",
    "def verify_database_results():\n",
    "    \"\"\"Check what was saved to the database\"\"\"\n",
    "    \n",
    "    print(\"🔍 Checking recent database entries...\")\n",
    "    \n",
    "    # Get recent conversations\n",
    "    conversations = db.get_all_conversations()\n",
    "    \n",
    "    if not conversations:\n",
    "        print(\"❌ No conversations found in database\")\n",
    "        return\n",
    "    \n",
    "    print(f\"📊 Found {len(conversations)} conversations:\")\n",
    "    \n",
    "    for conv in conversations[:3]:  # Show last 3\n",
    "        print(f\"\\n📝 ID {conv.id}: {conv.title}\")\n",
    "        print(f\"   📅 Created: {conv.created_at}\")\n",
    "        print(f\"   📊 Words: {conv.word_count}\")\n",
    "        print(f\"   🎯 Source: {conv.source}\")\n",
    "        print(f\"   📄 Text preview: {conv.raw_text[:150]}...\")\n",
    "\n",
    "verify_database_results()"
   ]
  }
 ],
 "metadata": {
  "kernelspec": {
   "display_name": ".venv",
   "language": "python",
   "name": "python3"
  },
  "language_info": {
   "codemirror_mode": {
    "name": "ipython",
    "version": 3
   },
   "file_extension": ".py",
   "mimetype": "text/x-python",
   "name": "python",
   "nbconvert_exporter": "python",
   "pygments_lexer": "ipython3",
   "version": "3.13.5"
  }
 },
 "nbformat": 4,
 "nbformat_minor": 5
}
