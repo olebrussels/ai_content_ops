{
 "cells": [
  {
   "cell_type": "code",
   "execution_count": 12,
   "id": "cb001904",
   "metadata": {},
   "outputs": [
    {
     "name": "stdout",
     "output_type": "stream",
     "text": [
      "AssemblyAI API Key loaded: ✅\n",
      "Key starts with: 972365f41d...\n"
     ]
    }
   ],
   "source": [
    "# Cell 1: Setup and Imports\n",
    "import os\n",
    "import sys\n",
    "from pathlib import Path\n",
    "from dotenv import load_dotenv\n",
    "\n",
    "# Add project root to Python path\n",
    "project_root = Path.cwd().parent\n",
    "sys.path.append(str(project_root))\n",
    "\n",
    "# Load environment variables\n",
    "load_dotenv(project_root / '.env')\n",
    "\n",
    "# Test API key\n",
    "assemblyai_key = os.getenv('ASSEMBLYAI_API_KEY')\n",
    "print(f\"AssemblyAI API Key loaded: {'✅' if assemblyai_key else '❌'}\")\n",
    "print(f\"Key starts with: {assemblyai_key[:10] if assemblyai_key else 'None'}...\")\n"
   ]
  },
  {
   "cell_type": "code",
   "execution_count": 17,
   "id": "30f9e880",
   "metadata": {},
   "outputs": [
    {
     "name": "stdout",
     "output_type": "stream",
     "text": [
      "✅ All imports successful\n"
     ]
    }
   ],
   "source": [
    "# Cell 2: Import Dependencies\n",
    "import assemblyai as aai\n",
    "from langgraph.graph import StateGraph\n",
    "from typing import TypedDict, Optional, List  # ← Added List here\n",
    "import glob\n",
    "import time\n",
    "from pathlib import Path  # ← Also added Path here\n",
    "\n",
    "# Import our database\n",
    "from database.db_operations import db\n",
    "from database.models import ConversationCreate\n",
    "\n",
    "print(\"✅ All imports successful\")"
   ]
  },
  {
   "cell_type": "code",
   "execution_count": 14,
   "id": "19fad4ae",
   "metadata": {},
   "outputs": [
    {
     "name": "stdout",
     "output_type": "stream",
     "text": [
      "✅ State defined\n"
     ]
    }
   ],
   "source": [
    "# Cell 3: Define LangGraph State\n",
    "class AudioPipelineState(TypedDict):\n",
    "    file_path: str\n",
    "    filename: str\n",
    "    transcript_text: Optional[str]\n",
    "    conversation_id: Optional[int]\n",
    "    error: Optional[str]\n",
    "    status: str\n",
    "\n",
    "print(\"✅ State defined\")"
   ]
  },
  {
   "cell_type": "code",
   "execution_count": 15,
   "id": "f5cabeaa",
   "metadata": {},
   "outputs": [
    {
     "name": "stdout",
     "output_type": "stream",
     "text": [
      "✅ AssemblyAI connection successful\n"
     ]
    },
    {
     "data": {
      "text/plain": [
       "True"
      ]
     },
     "execution_count": 15,
     "metadata": {},
     "output_type": "execute_result"
    }
   ],
   "source": [
    "# Cell 4: Test AssemblyAI Connection\n",
    "# Configure AssemblyAI\n",
    "aai.settings.api_key = os.getenv('ASSEMBLYAI_API_KEY')\n",
    "\n",
    "# Test with a simple transcription (we'll use a file from temp folder)\n",
    "def test_assemblyai_connection():\n",
    "    \"\"\"Test if AssemblyAI is working\"\"\"\n",
    "    try:\n",
    "        # Just test the API key is valid\n",
    "        transcriber = aai.Transcriber()\n",
    "        print(\"✅ AssemblyAI connection successful\")\n",
    "        return True\n",
    "    except Exception as e:\n",
    "        print(f\"❌ AssemblyAI connection failed: {e}\")\n",
    "        return False\n",
    "\n",
    "test_assemblyai_connection()"
   ]
  },
  {
   "cell_type": "code",
   "execution_count": 18,
   "id": "01335e96",
   "metadata": {},
   "outputs": [
    {
     "name": "stdout",
     "output_type": "stream",
     "text": [
      "📊 BATCH PROCESSING INFO:\n",
      "   Files to process: 3\n",
      "   Total size: 2.1 MB\n",
      "\n",
      "📁 Files found:\n",
      "   1. blog_barchthreee.wav (0.7 MB)\n",
      "   2. blog_batchone.wav (0.9 MB)\n",
      "   3. blog_batxhtwo.wav (0.5 MB)\n",
      "\n",
      "🚀 Ready to process 3 files!\n"
     ]
    }
   ],
   "source": [
    "# Cell 5: Batch File Discovery and Management\n",
    "def find_audio_files(temp_folder: Path) -> List[Path]:\n",
    "    \"\"\"Find all audio files in temp folder\"\"\"\n",
    "    audio_extensions = ['*.wav', '*.mp3', '*.m4a']\n",
    "    audio_files = []\n",
    "    \n",
    "    for ext in audio_extensions:\n",
    "        audio_files.extend(temp_folder.glob(ext))\n",
    "    \n",
    "    return sorted(audio_files)\n",
    "\n",
    "def display_batch_info(audio_files: List[Path]):\n",
    "    \"\"\"Display information about the batch of files\"\"\"\n",
    "    if not audio_files:\n",
    "        print(\"❌ No audio files found in temp folder!\")\n",
    "        return False\n",
    "    \n",
    "    total_size_mb = sum(f.stat().st_size for f in audio_files) / (1024 * 1024)\n",
    "    \n",
    "    print(f\"📊 BATCH PROCESSING INFO:\")\n",
    "    print(f\"   Files to process: {len(audio_files)}\")\n",
    "    print(f\"   Total size: {total_size_mb:.1f} MB\")\n",
    "    print(f\"\\n📁 Files found:\")\n",
    "    \n",
    "    for i, file_path in enumerate(audio_files, 1):\n",
    "        size_mb = file_path.stat().st_size / (1024 * 1024)\n",
    "        print(f\"   {i}. {file_path.name} ({size_mb:.1f} MB)\")\n",
    "    \n",
    "    return True\n",
    "\n",
    "def cleanup_processed_files(processed_files: List[Path]):\n",
    "    \"\"\"Delete all successfully processed files\"\"\"\n",
    "    print(f\"\\n🗑️ CLEANUP: Deleting {len(processed_files)} processed files...\")\n",
    "    deleted_count = 0\n",
    "    \n",
    "    for file_path in processed_files:\n",
    "        try:\n",
    "            file_path.unlink()  # Delete file\n",
    "            print(f\"   ✅ Deleted: {file_path.name}\")\n",
    "            deleted_count += 1\n",
    "        except Exception as e:\n",
    "            print(f\"   ❌ Failed to delete {file_path.name}: {e}\")\n",
    "    \n",
    "    print(f\"🗑️ Cleanup complete: {deleted_count}/{len(processed_files)} files deleted\")\n",
    "\n",
    "# Discover files in temp folder\n",
    "temp_folder = project_root / 'data' / 'temp'\n",
    "temp_folder.mkdir(parents=True, exist_ok=True)  # Ensure folder exists\n",
    "\n",
    "audio_files = find_audio_files(temp_folder)\n",
    "files_available = display_batch_info(audio_files)\n",
    "\n",
    "if files_available:\n",
    "    print(f\"\\n🚀 Ready to process {len(audio_files)} files!\")\n",
    "else:\n",
    "    print(\"\\n💡 TIP: Add .wav files to data/temp/ folder for testing\")"
   ]
  },
  {
   "cell_type": "code",
   "execution_count": 19,
   "id": "419ae62d",
   "metadata": {},
   "outputs": [
    {
     "name": "stdout",
     "output_type": "stream",
     "text": [
      "✅ LangGraph nodes defined\n"
     ]
    }
   ],
   "source": [
    "# Cell 6: Define LangGraph Nodes\n",
    "def transcription_node(state: AudioPipelineState) -> AudioPipelineState:\n",
    "    \"\"\"Node 1: Transcribe audio file with AssemblyAI\"\"\"\n",
    "    try:\n",
    "        print(f\"🎙️ Transcribing: {state['filename']}\")\n",
    "        \n",
    "        # Configure transcriber\n",
    "        transcriber = aai.Transcriber()\n",
    "        \n",
    "        # Transcribe the file\n",
    "        transcript = transcriber.transcribe(state['file_path'])\n",
    "        \n",
    "        if transcript.status == aai.TranscriptStatus.error:\n",
    "            return {\n",
    "                **state,\n",
    "                \"error\": f\"AssemblyAI error: {transcript.error}\",\n",
    "                \"status\": \"transcription_failed\"\n",
    "            }\n",
    "        \n",
    "        return {\n",
    "            **state,\n",
    "            \"transcript_text\": transcript.text,\n",
    "            \"status\": \"transcribed\"\n",
    "        }\n",
    "        \n",
    "    except Exception as e:\n",
    "        return {\n",
    "            **state,\n",
    "            \"error\": f\"Transcription error: {str(e)}\",\n",
    "            \"status\": \"transcription_failed\"\n",
    "        }\n",
    "\n",
    "def database_saver_node(state: AudioPipelineState) -> AudioPipelineState:\n",
    "    \"\"\"Node 2: Save transcript to database\"\"\"\n",
    "    try:\n",
    "        print(f\"💾 Saving to database: {state['filename']}\")\n",
    "        \n",
    "        # Create conversation object\n",
    "        conversation = ConversationCreate(\n",
    "            title=f\"Audio: {state['filename']}\",\n",
    "            raw_text=state['transcript_text'],\n",
    "            source=\"transcribed\"\n",
    "        )\n",
    "        \n",
    "        # Save to database\n",
    "        conversation_id = db.create_conversation(conversation)\n",
    "        \n",
    "        return {\n",
    "            **state,\n",
    "            \"conversation_id\": conversation_id,\n",
    "            \"status\": \"completed\"\n",
    "        }\n",
    "        \n",
    "    except Exception as e:\n",
    "        return {\n",
    "            **state,\n",
    "            \"error\": f\"Database error: {str(e)}\",\n",
    "            \"status\": \"database_failed\"\n",
    "        }\n",
    "\n",
    "print(\"✅ LangGraph nodes defined\")"
   ]
  },
  {
   "cell_type": "code",
   "execution_count": 20,
   "id": "0cd719a4",
   "metadata": {},
   "outputs": [
    {
     "name": "stdout",
     "output_type": "stream",
     "text": [
      "🔧 Checking/creating database...\n",
      "Creating database at: data/app.db\n",
      "✅ Database schema created successfully!\n",
      "✅ Created tables: ['conversations', 'sqlite_sequence', 'blog_post_ideas', 'processing_status']\n",
      "✅ Database ready!\n",
      "📊 Available tables: ['conversations', 'sqlite_sequence', 'blog_post_ideas', 'processing_status']\n"
     ]
    }
   ],
   "source": [
    "# Cell: Initialize Database\n",
    "from database.init_db import create_database\n",
    "\n",
    "print(\"🔧 Checking/creating database...\")\n",
    "try:\n",
    "    create_database()\n",
    "    print(\"✅ Database ready!\")\n",
    "except Exception as e:\n",
    "    print(f\"❌ Database error: {e}\")\n",
    "\n",
    "# Verify tables exist\n",
    "import sqlite3\n",
    "conn = sqlite3.connect('data/app.db')\n",
    "cursor = conn.cursor()\n",
    "cursor.execute(\"SELECT name FROM sqlite_master WHERE type='table';\")\n",
    "tables = cursor.fetchall()\n",
    "print(f\"📊 Available tables: {[table[0] for table in tables]}\")\n",
    "conn.close()"
   ]
  },
  {
   "cell_type": "code",
   "execution_count": 21,
   "id": "8c379c20",
   "metadata": {},
   "outputs": [
    {
     "name": "stdout",
     "output_type": "stream",
     "text": [
      "✅ LangGraph pipeline compiled and ready\n"
     ]
    }
   ],
   "source": [
    "# Cell 7: Build LangGraph Workflow\n",
    "def build_pipeline():\n",
    "    \"\"\"Build the LangGraph workflow\"\"\"\n",
    "    workflow = StateGraph(AudioPipelineState)\n",
    "    \n",
    "    # Add nodes\n",
    "    workflow.add_node(\"transcribe\", transcription_node)\n",
    "    workflow.add_node(\"save_to_db\", database_saver_node)\n",
    "    \n",
    "    # Add edges\n",
    "    workflow.add_edge(\"transcribe\", \"save_to_db\")\n",
    "    workflow.set_entry_point(\"transcribe\")\n",
    "    workflow.set_finish_point(\"save_to_db\")\n",
    "    \n",
    "    return workflow.compile()\n",
    "\n",
    "# Build the pipeline\n",
    "pipeline = build_pipeline()\n",
    "print(\"✅ LangGraph pipeline compiled and ready\")"
   ]
  },
  {
   "cell_type": "code",
   "execution_count": 22,
   "id": "078aae2d",
   "metadata": {},
   "outputs": [
    {
     "name": "stdout",
     "output_type": "stream",
     "text": [
      "✅ Batch processing function ready\n"
     ]
    }
   ],
   "source": [
    "# Cell 8: Batch Processing Function\n",
    "def process_audio_batch(audio_files: List[Path], pipeline) -> dict:\n",
    "    \"\"\"Process all audio files in batch\"\"\"\n",
    "    \n",
    "    if not audio_files:\n",
    "        print(\"❌ No files to process\")\n",
    "        return {\"processed\": [], \"failed\": [], \"total\": 0}\n",
    "    \n",
    "    print(f\"\\n🚀 STARTING BATCH PROCESSING - {len(audio_files)} files\")\n",
    "    print(\"=\" * 60)\n",
    "    \n",
    "    processed_files = []\n",
    "    failed_files = []\n",
    "    results = []\n",
    "    \n",
    "    for i, file_path in enumerate(audio_files, 1):\n",
    "        print(f\"\\n📂 Processing {i}/{len(audio_files)}: {file_path.name}\")\n",
    "        print(\"-\" * 40)\n",
    "        \n",
    "        # Create initial state\n",
    "        initial_state = {\n",
    "            \"file_path\": str(file_path),\n",
    "            \"filename\": file_path.name,\n",
    "            \"transcript_text\": None,\n",
    "            \"conversation_id\": None,\n",
    "            \"error\": None,\n",
    "            \"status\": \"processing\"\n",
    "        }\n",
    "        \n",
    "        try:\n",
    "            # Run through pipeline\n",
    "            result = pipeline.invoke(initial_state)\n",
    "            \n",
    "            if result[\"status\"] == \"completed\":\n",
    "                print(f\"✅ SUCCESS: {file_path.name}\")\n",
    "                print(f\"   Conversation ID: {result['conversation_id']}\")\n",
    "                print(f\"   Transcript preview: {result['transcript_text'][:100]}...\")\n",
    "                processed_files.append(file_path)\n",
    "            else:\n",
    "                print(f\"❌ FAILED: {file_path.name}\")\n",
    "                print(f\"   Error: {result.get('error', 'Unknown error')}\")\n",
    "                failed_files.append(file_path)\n",
    "            \n",
    "            results.append(result)\n",
    "            \n",
    "        except Exception as e:\n",
    "            print(f\"❌ PIPELINE ERROR: {file_path.name}\")\n",
    "            print(f\"   Exception: {str(e)}\")\n",
    "            failed_files.append(file_path)\n",
    "            \n",
    "            results.append({\n",
    "                **initial_state,\n",
    "                \"error\": str(e),\n",
    "                \"status\": \"pipeline_error\"\n",
    "            })\n",
    "    \n",
    "    return {\n",
    "        \"processed\": processed_files,\n",
    "        \"failed\": failed_files,\n",
    "        \"total\": len(audio_files),\n",
    "        \"results\": results\n",
    "    }\n",
    "\n",
    "print(\"✅ Batch processing function ready\")"
   ]
  },
  {
   "cell_type": "code",
   "execution_count": 23,
   "id": "4cb00a40",
   "metadata": {},
   "outputs": [
    {
     "name": "stdout",
     "output_type": "stream",
     "text": [
      "🎯 Starting batch processing...\n",
      "\n",
      "🚀 STARTING BATCH PROCESSING - 3 files\n",
      "============================================================\n",
      "\n",
      "📂 Processing 1/3: blog_barchthreee.wav\n",
      "----------------------------------------\n",
      "🎙️ Transcribing: blog_barchthreee.wav\n",
      "💾 Saving to database: blog_barchthreee.wav\n",
      "✅ SUCCESS: blog_barchthreee.wav\n",
      "   Conversation ID: 2\n",
      "   Transcript preview: Testing batch processing number three....\n",
      "\n",
      "📂 Processing 2/3: blog_batchone.wav\n",
      "----------------------------------------\n",
      "🎙️ Transcribing: blog_batchone.wav\n",
      "💾 Saving to database: blog_batchone.wav\n",
      "✅ SUCCESS: blog_batchone.wav\n",
      "   Conversation ID: 3\n",
      "   Transcript preview: Testing batch processing one....\n",
      "\n",
      "📂 Processing 3/3: blog_batxhtwo.wav\n",
      "----------------------------------------\n",
      "🎙️ Transcribing: blog_batxhtwo.wav\n",
      "💾 Saving to database: blog_batxhtwo.wav\n",
      "✅ SUCCESS: blog_batxhtwo.wav\n",
      "   Conversation ID: 4\n",
      "   Transcript preview: Testing batch process into....\n",
      "\n",
      "📊 BATCH PROCESSING COMPLETE!\n",
      "============================================================\n",
      "✅ Successfully processed: 3\n",
      "❌ Failed: 0\n",
      "📁 Total files: 3\n",
      "\n",
      "🗑️ CLEANUP: Deleting 3 processed files...\n",
      "   ✅ Deleted: blog_barchthreee.wav\n",
      "   ✅ Deleted: blog_batchone.wav\n",
      "   ✅ Deleted: blog_batxhtwo.wav\n",
      "🗑️ Cleanup complete: 3/3 files deleted\n",
      "\n",
      "🎉 Batch processing complete!\n"
     ]
    }
   ],
   "source": [
    "# Cell 9: Execute Batch Processing with Cleanup\n",
    "if files_available:\n",
    "    print(\"🎯 Starting batch processing...\")\n",
    "    \n",
    "    # Process all files\n",
    "    batch_results = process_audio_batch(audio_files, pipeline)\n",
    "    \n",
    "    # Display summary\n",
    "    print(f\"\\n📊 BATCH PROCESSING COMPLETE!\")\n",
    "    print(\"=\" * 60)\n",
    "    print(f\"✅ Successfully processed: {len(batch_results['processed'])}\")\n",
    "    print(f\"❌ Failed: {len(batch_results['failed'])}\")\n",
    "    print(f\"📁 Total files: {batch_results['total']}\")\n",
    "    \n",
    "    # Show failed files\n",
    "    if batch_results['failed']:\n",
    "        print(f\"\\n❌ Failed files:\")\n",
    "        for file_path in batch_results['failed']:\n",
    "            print(f\"   - {file_path.name}\")\n",
    "    \n",
    "    # Cleanup successfully processed files\n",
    "    if batch_results['processed']:\n",
    "        confirm = input(f\"\\n🗑️ Delete {len(batch_results['processed'])} processed files? (y/N): \")\n",
    "        if confirm.lower() in ['y', 'yes']:\n",
    "            cleanup_processed_files(batch_results['processed'])\n",
    "        else:\n",
    "            print(\"🔧 Files kept in temp folder for inspection\")\n",
    "    \n",
    "    print(\"\\n🎉 Batch processing complete!\")\n",
    "    \n",
    "else:\n",
    "    print(\"💡 Add audio files to data/temp/ folder and rerun this cell\")"
   ]
  },
  {
   "cell_type": "code",
   "execution_count": 24,
   "id": "d95b79d3",
   "metadata": {},
   "outputs": [
    {
     "name": "stdout",
     "output_type": "stream",
     "text": [
      "📝 Recent Conversations (showing 4):\n",
      "------------------------------------------------------------\n",
      "ID: 4 | Title: Audio: blog_batxhtwo.wav\n",
      "Source: transcribed | Words: 4 | Status: pending\n",
      "Created: 2025-09-24 08:20:07\n",
      "Preview: Testing batch process into....\n",
      "------------------------------------------------------------\n",
      "ID: 3 | Title: Audio: blog_batchone.wav\n",
      "Source: transcribed | Words: 4 | Status: pending\n",
      "Created: 2025-09-24 08:20:02\n",
      "Preview: Testing batch processing one....\n",
      "------------------------------------------------------------\n",
      "ID: 2 | Title: Audio: blog_barchthreee.wav\n",
      "Source: transcribed | Words: 5 | Status: pending\n",
      "Created: 2025-09-24 08:19:57\n",
      "Preview: Testing batch processing number three....\n",
      "------------------------------------------------------------\n",
      "ID: 1 | Title: Audio: blog_recordcomtines.wav\n",
      "Source: transcribed | Words: 30 | Status: pending\n",
      "Created: 2025-09-24 07:48:54\n",
      "Preview: I'm uploading a file from my telephone, and the idea is that this file is going to be monitored and moved to the temporary file in the AI ContentOps f...\n",
      "------------------------------------------------------------\n"
     ]
    }
   ],
   "source": [
    "# Cell 10: View Results in Database\n",
    "def show_recent_conversations(limit=10):\n",
    "    \"\"\"Display recent conversations from database\"\"\"\n",
    "    conversations = db.get_all_conversations()\n",
    "    \n",
    "    if not conversations:\n",
    "        print(\"📝 No conversations found in database\")\n",
    "        return\n",
    "    \n",
    "    print(f\"📝 Recent Conversations (showing {min(limit, len(conversations))}):\")\n",
    "    print(\"-\" * 60)\n",
    "    \n",
    "    for conv in conversations[:limit]:\n",
    "        print(f\"ID: {conv.id} | Title: {conv.title}\")\n",
    "        print(f\"Source: {conv.source} | Words: {conv.word_count} | Status: {conv.status}\")\n",
    "        print(f\"Created: {conv.created_at}\")\n",
    "        print(f\"Preview: {conv.raw_text[:150]}...\")\n",
    "        print(\"-\" * 60)\n",
    "\n",
    "# Show results\n",
    "show_recent_conversations()"
   ]
  }
 ],
 "metadata": {
  "kernelspec": {
   "display_name": ".venv",
   "language": "python",
   "name": "python3"
  },
  "language_info": {
   "codemirror_mode": {
    "name": "ipython",
    "version": 3
   },
   "file_extension": ".py",
   "mimetype": "text/x-python",
   "name": "python",
   "nbconvert_exporter": "python",
   "pygments_lexer": "ipython3",
   "version": "3.13.5"
  }
 },
 "nbformat": 4,
 "nbformat_minor": 5
}
