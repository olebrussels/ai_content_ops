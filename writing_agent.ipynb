{
 "cells": [
  {
   "cell_type": "markdown",
   "id": "6c12ca2a",
   "metadata": {},
   "source": [
    "## what are we trying to do\n",
    "a graph with 2 agents. one that writes an article plan from a raw interview with an expert \n",
    "another agent that writes the blogpost from the plan \n",
    "## next steps (later)\n",
    "try to add interrupt\n",
    "and human feedback \n"
   ]
  },
  {
   "cell_type": "code",
   "execution_count": 1,
   "id": "a394f69d",
   "metadata": {},
   "outputs": [],
   "source": [
    "import os, getpass\n",
    "\n",
    "def _set_env(var: str):\n",
    "    if not os.environ.get(var):\n",
    "        os.environ[var] = getpass.getpass(f\"{var}: \")\n",
    "\n",
    "_set_env(\"OPENAI_API_KEY\")"
   ]
  },
  {
   "cell_type": "code",
   "execution_count": 3,
   "id": "f15a2a3c",
   "metadata": {},
   "outputs": [],
   "source": [
    "from langchain_openai import ChatOpenAI\n",
    "llm = ChatOpenAI(model=\"gpt-4o\", temperature=0) "
   ]
  },
  {
   "cell_type": "code",
   "execution_count": 4,
   "id": "dfff4862",
   "metadata": {},
   "outputs": [],
   "source": [
    "_set_env(\"LANGCHAIN_API_KEY\")\n",
    "os.environ[\"LANGCHAIN_TRACING_V2\"] = \"true\"\n",
    "os.environ[\"LANGCHAIN_PROJECT\"] = \"meetup_writing_agent\""
   ]
  },
  {
   "cell_type": "code",
   "execution_count": null,
   "id": "cfb18f0e",
   "metadata": {},
   "outputs": [],
   "source": [
    "from typing import List\n",
    "from typing_extensions import TypedDict\n",
    "from pydantic import BaseModel, Field\n",
    "\n",
    "class Plan(BaseModel):\n",
    "    who: str = Field(\n",
    "        description=\"target reader of the blog post, e.g., 'AI researchers', 'business leaders', etc.\",\n",
    "    )\n",
    "    why: str = Field(\n",
    "        description=\"why are we writing this blog post.\",\n",
    "    )\n",
    "    what: str = Field(\n",
    "        description=\"what are the main topics to cover in the blog post.\",\n",
    "    )\n",
    "    the_issue: str = Field(\n",
    "        description=\"the main issue or problem that the blog post addresses.\",\n",
    "    )\n",
    "    where_we_stand: str = Field(\n",
    "        description=\"current position or perspective on the issue.\",\n",
    "    )\n",
    "    single_message: str = Field(\n",
    "        description=\"the single most important message to convey in the blog post.\",\n",
    "    )\n",
    "\n",
    "    @property\n",
    "    def plan(self) -> str:\n",
    "        return (\n",
    "            f\"Who: {self.who}\\n\"\n",
    "            f\"Why: {self.why}\\n\"\n",
    "            f\"What: {self.what}\\n\"\n",
    "            f\"Issue: {self.the_issue}\\n\"\n",
    "            f\"Where We Stand: {self.where_we_stand}\\n\"\n",
    "            f\"Single Message: {self.single_message}\\n\"\n",
    "        )\n",
    "\n",
    "class Perspectives(BaseModel):\n",
    "    plan: List[Plan] = Field(\n",
    "        description=\"AI generated plan / scaffold for the blog post.\",\n",
    "    )\n",
    "\n",
    "class BlogPost(BaseModel):\n",
    "    title: str = Field(description=\"The title of the blog post.\")\n",
    "    content: str = Field(description=\"The full content of the blog post.\")\n",
    "\n",
    "    \n",
    "class GeneratePlanState(TypedDict):\n",
    "    company_strategy: str  # Company strategy\n",
    "    content_strategy: str      # content strategy\n",
    "    plan: List[Plan]       # AI generated plan / scaffold for the blog post.\n",
    "    blog_post: List[BlogPost]  # the substance of the blog posts, with a {\"title\": str, \"content\": str} written according to the plan."
   ]
  },
  {
   "cell_type": "code",
   "execution_count": null,
   "id": "7fdfa526",
   "metadata": {},
   "outputs": [],
   "source": [
    "from IPython.display import Image, display\n",
    "from langgraph.graph import START, END, StateGraph\n",
    "from langgraph.checkpoint.memory import MemorySaver\n",
    "from langchain_core.messages import AIMessage, HumanMessage, SystemMessage\n",
    "\n",
    "plan_instructions = \"\"\"You are tasked with creating a plan for a proffesional blog post for a company called Big Kids Automation Agency. the plan is just a skeleton of a blog post which contains\n",
    "some question and answers that will help the company writer to write a focused blog post. this plan is a set of instruction to the writer to stay focus and write the post. \n",
    " \n",
    "The raw_input is a transcript of a conversation with an expert.  i want you to use this input as the basis for the plan of the blog post. you take this\n",
    "as the source where you will extract the ideas for the blog post.\n",
    "\n",
    "Follow these instructions carefully:\n",
    "\n",
    "1. First, review the company business strategy. Examine the company strategy:\n",
    "{company_strategy}\n",
    "        \n",
    "2. The blog post must fit the company content strategy. Examine the company content strategy: \n",
    "        \n",
    "{content_strategy}\n",
    "\n",
    "3. Read the raw_imput.\n",
    "    {raw_input}\n",
    "4. Create a plan for a blog post. The plan should include the following sections:\n",
    "\n",
    "who , why, what, the_issue, where_we_stand, single_message.\n",
    "\n",
    "\n",
    "                    \n",
    "\"\"\""
   ]
  },
  {
   "cell_type": "code",
   "execution_count": 9,
   "id": "4b0298de",
   "metadata": {},
   "outputs": [],
   "source": [
    "def create_plan(state: GeneratePlanState):\n",
    "    \"\"\"Create plan\"\"\"\n",
    "    company_strategy = state['company_strategy']\n",
    "    content_strategy = state['content_strategy']\n",
    "    \n",
    "    # Read raw_input file\n",
    "    try:\n",
    "        with open(\"raw_input.mkd\", \"r\", encoding=\"utf-8\") as f:\n",
    "            raw_input = f.read()\n",
    "    except FileNotFoundError:\n",
    "        raw_input = \"No raw input file found.\"\n",
    "\n",
    "    # Enforce structured output\n",
    "    structured_llm = llm.with_structured_output(Perspectives)\n",
    "\n",
    "    # System message\n",
    "    system_message = plan_instructions.format(\n",
    "        company_strategy=company_strategy,\n",
    "        seo_strategy=seo_strategy,\n",
    "        raw_input=raw_input\n",
    "    )\n",
    "\n",
    "    # Generate question \n",
    "    plan = structured_llm.invoke([SystemMessage(content=system_message)] + [HumanMessage(content=\"Generate the article plan.\")])\n",
    "    \n",
    "    # Write the plan to the state\n",
    "    return {\"plan\": plan.plan}\n",
    "\n",
    "   \n",
    "def write_blog_post(state: GeneratePlanState):\n",
    "    \"\"\"Generate a blog post draft from the plan.\"\"\"\n",
    "    \n",
    "    blog_post_instructions = (\n",
    "        \"You are a professional blog writer for Big Kids Automation Agency. \"\n",
    "        \"Using the following plan, write a complete blog post. \"\n",
    "        f'Plan: {state[\"plan\"]}\\n'\n",
    "\n",
    "        \"Make sure the post is engaging, clear, and follows the structure and intent of the plan. \"\n",
    "        \"Return a title and the full content of the blog post.\\n\\n\"\n",
    "    )\n",
    "\n",
    "    structured_llm = llm.with_structured_output(BlogPost)\n",
    "    blog_post = structured_llm.invoke([SystemMessage(content=blog_post_instructions), HumanMessage(content=\"Write the blog post.\")])\n",
    "    # Return the blog_post as part of the state\n",
    "    return {\"blog_post\": [blog_post]}"
   ]
  },
  {
   "cell_type": "code",
   "execution_count": 10,
   "id": "47e25588",
   "metadata": {},
   "outputs": [
    {
     "data": {
      "image/png": "[encoded data removed]",
      "text/plain": [
       "<IPython.core.display.Image object>"
      ]
     },
     "metadata": {},
     "output_type": "display_data"
    }
   ],
   "source": [
    "# Add nodes and edges \n",
    "builder = StateGraph(GeneratePlanState)\n",
    "builder.add_node(\"create_plan\", create_plan)\n",
    "builder.add_node(\"write_blog_post\", write_blog_post)\n",
    "\n",
    "builder.add_edge(START, \"create_plan\")\n",
    "builder.add_edge(\"create_plan\", \"write_blog_post\")\n",
    "builder.add_edge(\"write_blog_post\", END)\n",
    "\n",
    "# Compile\n",
    "memory = MemorySaver()\n",
    "graph = builder.compile(checkpointer=memory)\n",
    "\n",
    "# View\n",
    "display(Image(graph.get_graph(xray=1).draw_mermaid_png()))"
   ]
  },
  {
   "cell_type": "code",
   "execution_count": 11,
   "id": "e458cdea",
   "metadata": {},
   "outputs": [],
   "source": [
    "from pathlib import Path\n",
    "\n",
    "company_strategy_path = Path(\"data/processed/company_strategy.mkd\")\n",
    "\n",
    "with open(company_strategy_path, \"r\", encoding=\"utf-8\") as f:\n",
    "    company_strategy = f.read()\n"
   ]
  },
  {
   "cell_type": "code",
   "execution_count": 12,
   "id": "dac31594",
   "metadata": {},
   "outputs": [],
   "source": [
    "from pathlib import Path\n",
    "\n",
    "content_strategy_path = Path(\"data/processed/content_strategy.mkd\")\n",
    "\n",
    "with open(content_strategy_path, \"r\", encoding=\"utf-8\") as f:\n",
    "    content_strategy = f.read()"
   ]
  }
 ],
 "metadata": {
  "kernelspec": {
   "display_name": ".venv",
   "language": "python",
   "name": "python3"
  },
  "language_info": {
   "codemirror_mode": {
    "name": "ipython",
    "version": 3
   },
   "file_extension": ".py",
   "mimetype": "text/x-python",
   "name": "python",
   "nbconvert_exporter": "python",
   "pygments_lexer": "ipython3",
   "version": "3.13.5"
  }
 },
 "nbformat": 4,
 "nbformat_minor": 5
}
